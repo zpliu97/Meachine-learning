{
 "cells": [
  {
   "cell_type": "code",
   "execution_count": null,
   "metadata": {},
   "outputs": [],
   "source": [
    "import pandas as pd\n",
    "data = pd.read_excel(r'i_nuc.xls',index_col='Id',sheet_name='Sheet2')\n",
    "outputfile = r'data1.xls'\n",
    "k = 3 #聚类的类别\n",
    "iteration = 500 #聚类的最大循环次数\n",
    "\n",
    "zsocredfile = r'zscoreddata.xls'\n",
    "\n",
    "data_zs = 1.0 * (data-data.mean())/data.std() #zscore标准化\n",
    "data_zs.to_excel(zscoredfile, index = False) #数据写入\n",
    "\n",
    "from sklearn.cluster import KMeans\n",
    "model = KMeans(n_clusters=k, "
   ]
  }
 ],
 "metadata": {
  "kernelspec": {
   "display_name": "Python 3",
   "language": "python",
   "name": "python3"
  },
  "language_info": {
   "codemirror_mode": {
    "name": "ipython",
    "version": 3
   },
   "file_extension": ".py",
   "mimetype": "text/x-python",
   "name": "python",
   "nbconvert_exporter": "python",
   "pygments_lexer": "ipython3",
   "version": "3.6.10"
  }
 },
 "nbformat": 4,
 "nbformat_minor": 4
}
